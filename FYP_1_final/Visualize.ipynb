{
  "cells": [
    {
      "cell_type": "code",
      "execution_count": null,
      "id": "aeebdf23",
      "metadata": {
        "id": "aeebdf23"
      },
      "outputs": [],
      "source": [
        "#!pip install tweepy\n",
        "\n",
        "import numpy as np\n",
        "import pandas as pd\n"
      ]
    },
    {
      "cell_type": "code",
      "execution_count": null,
      "id": "eb34be4a",
      "metadata": {
        "id": "eb34be4a"
      },
      "outputs": [],
      "source": [
        "sexist1 = pd.read_excel('../Dataset/sexism/ISEP Sexist Data labeling.xlsx')"
      ]
    },
    {
      "cell_type": "code",
      "execution_count": null,
      "id": "dfad6def",
      "metadata": {
        "id": "dfad6def",
        "outputId": "cc687ac9-bca8-432a-8b45-77d2216e28b3"
      },
      "outputs": [
        {
          "data": {
            "text/html": [
              "<div>\n",
              "<style scoped>\n",
              "    .dataframe tbody tr th:only-of-type {\n",
              "        vertical-align: middle;\n",
              "    }\n",
              "\n",
              "    .dataframe tbody tr th {\n",
              "        vertical-align: top;\n",
              "    }\n",
              "\n",
              "    .dataframe thead th {\n",
              "        text-align: right;\n",
              "    }\n",
              "</style>\n",
              "<table border=\"1\" class=\"dataframe\">\n",
              "  <thead>\n",
              "    <tr style=\"text-align: right;\">\n",
              "      <th></th>\n",
              "      <th>Label</th>\n",
              "    </tr>\n",
              "  </thead>\n",
              "  <tbody>\n",
              "    <tr>\n",
              "      <th>count</th>\n",
              "      <td>1137.000000</td>\n",
              "    </tr>\n",
              "    <tr>\n",
              "      <th>mean</th>\n",
              "      <td>0.548813</td>\n",
              "    </tr>\n",
              "    <tr>\n",
              "      <th>std</th>\n",
              "      <td>0.497831</td>\n",
              "    </tr>\n",
              "    <tr>\n",
              "      <th>min</th>\n",
              "      <td>0.000000</td>\n",
              "    </tr>\n",
              "    <tr>\n",
              "      <th>25%</th>\n",
              "      <td>0.000000</td>\n",
              "    </tr>\n",
              "    <tr>\n",
              "      <th>50%</th>\n",
              "      <td>1.000000</td>\n",
              "    </tr>\n",
              "    <tr>\n",
              "      <th>75%</th>\n",
              "      <td>1.000000</td>\n",
              "    </tr>\n",
              "    <tr>\n",
              "      <th>max</th>\n",
              "      <td>1.000000</td>\n",
              "    </tr>\n",
              "  </tbody>\n",
              "</table>\n",
              "</div>"
            ],
            "text/plain": [
              "             Label\n",
              "count  1137.000000\n",
              "mean      0.548813\n",
              "std       0.497831\n",
              "min       0.000000\n",
              "25%       0.000000\n",
              "50%       1.000000\n",
              "75%       1.000000\n",
              "max       1.000000"
            ]
          },
          "execution_count": 15,
          "metadata": {},
          "output_type": "execute_result"
        }
      ],
      "source": [
        "sexist1.describe()"
      ]
    },
    {
      "cell_type": "code",
      "execution_count": null,
      "id": "34e6755e",
      "metadata": {
        "id": "34e6755e",
        "outputId": "fc8a1c04-6f09-4d88-b7ff-daece77c3306"
      },
      "outputs": [
        {
          "data": {
            "text/html": [
              "<div>\n",
              "<style scoped>\n",
              "    .dataframe tbody tr th:only-of-type {\n",
              "        vertical-align: middle;\n",
              "    }\n",
              "\n",
              "    .dataframe tbody tr th {\n",
              "        vertical-align: top;\n",
              "    }\n",
              "\n",
              "    .dataframe thead th {\n",
              "        text-align: right;\n",
              "    }\n",
              "</style>\n",
              "<table border=\"1\" class=\"dataframe\">\n",
              "  <thead>\n",
              "    <tr style=\"text-align: right;\">\n",
              "      <th></th>\n",
              "      <th>Sentences</th>\n",
              "      <th>Label</th>\n",
              "    </tr>\n",
              "  </thead>\n",
              "  <tbody>\n",
              "    <tr>\n",
              "      <th>0</th>\n",
              "      <td>For a woman, that is good</td>\n",
              "      <td>1</td>\n",
              "    </tr>\n",
              "    <tr>\n",
              "      <th>1</th>\n",
              "      <td>Just dress sexy and you will sign any contract.</td>\n",
              "      <td>1</td>\n",
              "    </tr>\n",
              "    <tr>\n",
              "      <th>2</th>\n",
              "      <td>Are you having period ?</td>\n",
              "      <td>1</td>\n",
              "    </tr>\n",
              "    <tr>\n",
              "      <th>3</th>\n",
              "      <td>Stop being bitchy</td>\n",
              "      <td>1</td>\n",
              "    </tr>\n",
              "    <tr>\n",
              "      <th>4</th>\n",
              "      <td>I leave early because of her children instead ...</td>\n",
              "      <td>1</td>\n",
              "    </tr>\n",
              "  </tbody>\n",
              "</table>\n",
              "</div>"
            ],
            "text/plain": [
              "                                           Sentences  Label\n",
              "0                          For a woman, that is good      1\n",
              "1    Just dress sexy and you will sign any contract.      1\n",
              "2                            Are you having period ?      1\n",
              "3                                  Stop being bitchy      1\n",
              "4  I leave early because of her children instead ...      1"
            ]
          },
          "execution_count": 16,
          "metadata": {},
          "output_type": "execute_result"
        }
      ],
      "source": [
        "sexist1.head()"
      ]
    },
    {
      "cell_type": "code",
      "execution_count": null,
      "id": "a4fd1768",
      "metadata": {
        "id": "a4fd1768",
        "outputId": "f506c968-b292-44ba-833f-e709885ddc68"
      },
      "outputs": [
        {
          "name": "stdout",
          "output_type": "stream",
          "text": [
            "Index(['Sentences', 'Label'], dtype='object')\n"
          ]
        }
      ],
      "source": [
        "print(sexist1.columns)"
      ]
    },
    {
      "cell_type": "code",
      "execution_count": null,
      "id": "8792ccc5",
      "metadata": {
        "id": "8792ccc5"
      },
      "outputs": [],
      "source": [
        "sexist1.Label[sexist1.Label!=1].count()\n",
        "sexist1 = sexist1[sexist1.Label==1]"
      ]
    },
    {
      "cell_type": "code",
      "execution_count": null,
      "id": "703679f2",
      "metadata": {
        "id": "703679f2",
        "outputId": "f74bdd58-c04f-4d00-f330-aa0765dcdeae"
      },
      "outputs": [
        {
          "data": {
            "text/html": [
              "<div>\n",
              "<style scoped>\n",
              "    .dataframe tbody tr th:only-of-type {\n",
              "        vertical-align: middle;\n",
              "    }\n",
              "\n",
              "    .dataframe tbody tr th {\n",
              "        vertical-align: top;\n",
              "    }\n",
              "\n",
              "    .dataframe thead th {\n",
              "        text-align: right;\n",
              "    }\n",
              "</style>\n",
              "<table border=\"1\" class=\"dataframe\">\n",
              "  <thead>\n",
              "    <tr style=\"text-align: right;\">\n",
              "      <th></th>\n",
              "      <th>Label</th>\n",
              "    </tr>\n",
              "  </thead>\n",
              "  <tbody>\n",
              "    <tr>\n",
              "      <th>count</th>\n",
              "      <td>624.0</td>\n",
              "    </tr>\n",
              "    <tr>\n",
              "      <th>mean</th>\n",
              "      <td>1.0</td>\n",
              "    </tr>\n",
              "    <tr>\n",
              "      <th>std</th>\n",
              "      <td>0.0</td>\n",
              "    </tr>\n",
              "    <tr>\n",
              "      <th>min</th>\n",
              "      <td>1.0</td>\n",
              "    </tr>\n",
              "    <tr>\n",
              "      <th>25%</th>\n",
              "      <td>1.0</td>\n",
              "    </tr>\n",
              "    <tr>\n",
              "      <th>50%</th>\n",
              "      <td>1.0</td>\n",
              "    </tr>\n",
              "    <tr>\n",
              "      <th>75%</th>\n",
              "      <td>1.0</td>\n",
              "    </tr>\n",
              "    <tr>\n",
              "      <th>max</th>\n",
              "      <td>1.0</td>\n",
              "    </tr>\n",
              "  </tbody>\n",
              "</table>\n",
              "</div>"
            ],
            "text/plain": [
              "       Label\n",
              "count  624.0\n",
              "mean     1.0\n",
              "std      0.0\n",
              "min      1.0\n",
              "25%      1.0\n",
              "50%      1.0\n",
              "75%      1.0\n",
              "max      1.0"
            ]
          },
          "execution_count": 19,
          "metadata": {},
          "output_type": "execute_result"
        }
      ],
      "source": [
        "sexist1.describe()"
      ]
    },
    {
      "cell_type": "code",
      "execution_count": null,
      "id": "5813384e",
      "metadata": {
        "id": "5813384e"
      },
      "outputs": [],
      "source": [
        "sexist2 = pd.read_csv('../Dataset/sexism/NLP_CSS_2017-master/benevolent_sexist.tsv',sep='\\t')\n",
        "sexist3 = pd.read_csv('../Dataset/sexism/NLP_CSS_2017-master/hostile_sexist.tsv',sep='\\t')"
      ]
    },
    {
      "cell_type": "code",
      "execution_count": null,
      "id": "b50abe0a",
      "metadata": {
        "id": "b50abe0a",
        "outputId": "218023d6-7b5e-4bf3-df6a-7b0dba7846ec"
      },
      "outputs": [
        {
          "data": {
            "text/html": [
              "<div>\n",
              "<style scoped>\n",
              "    .dataframe tbody tr th:only-of-type {\n",
              "        vertical-align: middle;\n",
              "    }\n",
              "\n",
              "    .dataframe tbody tr th {\n",
              "        vertical-align: top;\n",
              "    }\n",
              "\n",
              "    .dataframe thead th {\n",
              "        text-align: right;\n",
              "    }\n",
              "</style>\n",
              "<table border=\"1\" class=\"dataframe\">\n",
              "  <thead>\n",
              "    <tr style=\"text-align: right;\">\n",
              "      <th></th>\n",
              "      <th>Sentences</th>\n",
              "    </tr>\n",
              "  </thead>\n",
              "  <tbody>\n",
              "    <tr>\n",
              "      <th>0</th>\n",
              "      <td>839880162586071040</td>\n",
              "    </tr>\n",
              "    <tr>\n",
              "      <th>1</th>\n",
              "      <td>839630746625142784</td>\n",
              "    </tr>\n",
              "    <tr>\n",
              "      <th>2</th>\n",
              "      <td>839630739335495681</td>\n",
              "    </tr>\n",
              "    <tr>\n",
              "      <th>3</th>\n",
              "      <td>839665182985097216</td>\n",
              "    </tr>\n",
              "    <tr>\n",
              "      <th>4</th>\n",
              "      <td>839765815494795264</td>\n",
              "    </tr>\n",
              "  </tbody>\n",
              "</table>\n",
              "</div>"
            ],
            "text/plain": [
              "            Sentences\n",
              "0  839880162586071040\n",
              "1  839630746625142784\n",
              "2  839630739335495681\n",
              "3  839665182985097216\n",
              "4  839765815494795264"
            ]
          },
          "execution_count": 21,
          "metadata": {},
          "output_type": "execute_result"
        }
      ],
      "source": [
        "sexist2.head()"
      ]
    },
    {
      "cell_type": "code",
      "execution_count": null,
      "id": "69aee9fb",
      "metadata": {
        "id": "69aee9fb",
        "outputId": "9ad9b34a-ec7e-4b03-bfcc-5bd9dcc1bd39"
      },
      "outputs": [
        {
          "data": {
            "text/html": [
              "<div>\n",
              "<style scoped>\n",
              "    .dataframe tbody tr th:only-of-type {\n",
              "        vertical-align: middle;\n",
              "    }\n",
              "\n",
              "    .dataframe tbody tr th {\n",
              "        vertical-align: top;\n",
              "    }\n",
              "\n",
              "    .dataframe thead th {\n",
              "        text-align: right;\n",
              "    }\n",
              "</style>\n",
              "<table border=\"1\" class=\"dataframe\">\n",
              "  <thead>\n",
              "    <tr style=\"text-align: right;\">\n",
              "      <th></th>\n",
              "      <th>Sentences</th>\n",
              "    </tr>\n",
              "  </thead>\n",
              "  <tbody>\n",
              "    <tr>\n",
              "      <th>count</th>\n",
              "      <td>7.205000e+03</td>\n",
              "    </tr>\n",
              "    <tr>\n",
              "      <th>mean</th>\n",
              "      <td>8.402566e+17</td>\n",
              "    </tr>\n",
              "    <tr>\n",
              "      <th>std</th>\n",
              "      <td>2.242018e+15</td>\n",
              "    </tr>\n",
              "    <tr>\n",
              "      <th>min</th>\n",
              "      <td>8.364605e+17</td>\n",
              "    </tr>\n",
              "    <tr>\n",
              "      <th>25%</th>\n",
              "      <td>8.396102e+17</td>\n",
              "    </tr>\n",
              "    <tr>\n",
              "      <th>50%</th>\n",
              "      <td>8.396636e+17</td>\n",
              "    </tr>\n",
              "    <tr>\n",
              "      <th>75%</th>\n",
              "      <td>8.398747e+17</td>\n",
              "    </tr>\n",
              "    <tr>\n",
              "      <th>max</th>\n",
              "      <td>8.476735e+17</td>\n",
              "    </tr>\n",
              "  </tbody>\n",
              "</table>\n",
              "</div>"
            ],
            "text/plain": [
              "          Sentences\n",
              "count  7.205000e+03\n",
              "mean   8.402566e+17\n",
              "std    2.242018e+15\n",
              "min    8.364605e+17\n",
              "25%    8.396102e+17\n",
              "50%    8.396636e+17\n",
              "75%    8.398747e+17\n",
              "max    8.476735e+17"
            ]
          },
          "execution_count": 22,
          "metadata": {},
          "output_type": "execute_result"
        }
      ],
      "source": [
        "sexist2.describe()"
      ]
    },
    {
      "cell_type": "code",
      "execution_count": null,
      "id": "a42e8f99",
      "metadata": {
        "id": "a42e8f99"
      },
      "outputs": [],
      "source": [
        "sexistSentences = pd.DataFrame(sexist1['Sentences'])"
      ]
    },
    {
      "cell_type": "code",
      "execution_count": null,
      "id": "c3af3870",
      "metadata": {
        "id": "c3af3870",
        "outputId": "2c65b649-b155-4c7f-e8b5-1c3439a1be76"
      },
      "outputs": [
        {
          "data": {
            "text/html": [
              "<div>\n",
              "<style scoped>\n",
              "    .dataframe tbody tr th:only-of-type {\n",
              "        vertical-align: middle;\n",
              "    }\n",
              "\n",
              "    .dataframe tbody tr th {\n",
              "        vertical-align: top;\n",
              "    }\n",
              "\n",
              "    .dataframe thead th {\n",
              "        text-align: right;\n",
              "    }\n",
              "</style>\n",
              "<table border=\"1\" class=\"dataframe\">\n",
              "  <thead>\n",
              "    <tr style=\"text-align: right;\">\n",
              "      <th></th>\n",
              "      <th>Sentences</th>\n",
              "    </tr>\n",
              "  </thead>\n",
              "  <tbody>\n",
              "    <tr>\n",
              "      <th>0</th>\n",
              "      <td>572346080911736832</td>\n",
              "    </tr>\n",
              "    <tr>\n",
              "      <th>1</th>\n",
              "      <td>572348198062170112</td>\n",
              "    </tr>\n",
              "    <tr>\n",
              "      <th>2</th>\n",
              "      <td>572348106202750976</td>\n",
              "    </tr>\n",
              "    <tr>\n",
              "      <th>3</th>\n",
              "      <td>572319306387599360</td>\n",
              "    </tr>\n",
              "    <tr>\n",
              "      <th>4</th>\n",
              "      <td>572347842456522752</td>\n",
              "    </tr>\n",
              "  </tbody>\n",
              "</table>\n",
              "</div>"
            ],
            "text/plain": [
              "            Sentences\n",
              "0  572346080911736832\n",
              "1  572348198062170112\n",
              "2  572348106202750976\n",
              "3  572319306387599360\n",
              "4  572347842456522752"
            ]
          },
          "execution_count": 24,
          "metadata": {},
          "output_type": "execute_result"
        }
      ],
      "source": [
        "sexist3.head()"
      ]
    },
    {
      "cell_type": "code",
      "execution_count": null,
      "id": "ae093c5d",
      "metadata": {
        "id": "ae093c5d"
      },
      "outputs": [],
      "source": [
        "sexist = pd.concat([sexistSentences,sexist2,sexist3],axis=0)"
      ]
    },
    {
      "cell_type": "code",
      "execution_count": null,
      "id": "357dfe51",
      "metadata": {
        "id": "357dfe51",
        "outputId": "21cdfcad-af3f-4200-b161-d2dc8086aa98"
      },
      "outputs": [
        {
          "data": {
            "text/html": [
              "<div>\n",
              "<style scoped>\n",
              "    .dataframe tbody tr th:only-of-type {\n",
              "        vertical-align: middle;\n",
              "    }\n",
              "\n",
              "    .dataframe tbody tr th {\n",
              "        vertical-align: top;\n",
              "    }\n",
              "\n",
              "    .dataframe thead th {\n",
              "        text-align: right;\n",
              "    }\n",
              "</style>\n",
              "<table border=\"1\" class=\"dataframe\">\n",
              "  <thead>\n",
              "    <tr style=\"text-align: right;\">\n",
              "      <th></th>\n",
              "      <th>Sentences</th>\n",
              "    </tr>\n",
              "  </thead>\n",
              "  <tbody>\n",
              "    <tr>\n",
              "      <th>count</th>\n",
              "      <td>11207</td>\n",
              "    </tr>\n",
              "    <tr>\n",
              "      <th>unique</th>\n",
              "      <td>11199</td>\n",
              "    </tr>\n",
              "    <tr>\n",
              "      <th>top</th>\n",
              "      <td>Time to get up and walk like a man</td>\n",
              "    </tr>\n",
              "    <tr>\n",
              "      <th>freq</th>\n",
              "      <td>2</td>\n",
              "    </tr>\n",
              "  </tbody>\n",
              "</table>\n",
              "</div>"
            ],
            "text/plain": [
              "                                 Sentences\n",
              "count                                11207\n",
              "unique                               11199\n",
              "top     Time to get up and walk like a man\n",
              "freq                                     2"
            ]
          },
          "execution_count": 26,
          "metadata": {},
          "output_type": "execute_result"
        }
      ],
      "source": [
        "sexist.describe()"
      ]
    },
    {
      "cell_type": "code",
      "execution_count": null,
      "id": "5877f9f3",
      "metadata": {
        "id": "5877f9f3",
        "outputId": "e893b9e4-eac5-41d5-d28a-87c5e099d218"
      },
      "outputs": [
        {
          "data": {
            "text/html": [
              "<div>\n",
              "<style scoped>\n",
              "    .dataframe tbody tr th:only-of-type {\n",
              "        vertical-align: middle;\n",
              "    }\n",
              "\n",
              "    .dataframe tbody tr th {\n",
              "        vertical-align: top;\n",
              "    }\n",
              "\n",
              "    .dataframe thead th {\n",
              "        text-align: right;\n",
              "    }\n",
              "</style>\n",
              "<table border=\"1\" class=\"dataframe\">\n",
              "  <thead>\n",
              "    <tr style=\"text-align: right;\">\n",
              "      <th></th>\n",
              "      <th>Sentences</th>\n",
              "    </tr>\n",
              "  </thead>\n",
              "  <tbody>\n",
              "    <tr>\n",
              "      <th>476</th>\n",
              "      <td>Time to get up and walk like a man</td>\n",
              "    </tr>\n",
              "    <tr>\n",
              "      <th>479</th>\n",
              "      <td>As a man, I would have worded that sentence tw...</td>\n",
              "    </tr>\n",
              "    <tr>\n",
              "      <th>488</th>\n",
              "      <td>I don't care how hard you think you are if you...</td>\n",
              "    </tr>\n",
              "    <tr>\n",
              "      <th>593</th>\n",
              "      <td>she is blond what do you want</td>\n",
              "    </tr>\n",
              "    <tr>\n",
              "      <th>622</th>\n",
              "      <td>i'm no sexist, i'm a realist</td>\n",
              "    </tr>\n",
              "    <tr>\n",
              "      <th>632</th>\n",
              "      <td>It isn't sexist if you're right.</td>\n",
              "    </tr>\n",
              "    <tr>\n",
              "      <th>724</th>\n",
              "      <td>If you want to be intelligent hang out with men.</td>\n",
              "    </tr>\n",
              "    <tr>\n",
              "      <th>763</th>\n",
              "      <td>I believe men and women have their roles in th...</td>\n",
              "    </tr>\n",
              "  </tbody>\n",
              "</table>\n",
              "</div>"
            ],
            "text/plain": [
              "                                             Sentences\n",
              "476                 Time to get up and walk like a man\n",
              "479  As a man, I would have worded that sentence tw...\n",
              "488  I don't care how hard you think you are if you...\n",
              "593                      she is blond what do you want\n",
              "622                       i'm no sexist, i'm a realist\n",
              "632                   It isn't sexist if you're right.\n",
              "724   If you want to be intelligent hang out with men.\n",
              "763  I believe men and women have their roles in th..."
            ]
          },
          "execution_count": 27,
          "metadata": {},
          "output_type": "execute_result"
        }
      ],
      "source": [
        "sexist[sexist.Sentences.duplicated()]\n"
      ]
    },
    {
      "cell_type": "code",
      "execution_count": null,
      "id": "c47b9a40",
      "metadata": {
        "id": "c47b9a40"
      },
      "outputs": [],
      "source": [
        "sexist.drop_duplicates(inplace=True)"
      ]
    },
    {
      "cell_type": "code",
      "execution_count": null,
      "id": "88413446",
      "metadata": {
        "id": "88413446",
        "outputId": "dd3b75c9-3407-4514-972e-5a7fe1e58fec"
      },
      "outputs": [
        {
          "data": {
            "text/plain": [
              "11199"
            ]
          },
          "execution_count": 29,
          "metadata": {},
          "output_type": "execute_result"
        }
      ],
      "source": [
        "sexist.count()[0]"
      ]
    },
    {
      "cell_type": "markdown",
      "id": "1974e3f7",
      "metadata": {
        "id": "1974e3f7"
      },
      "source": [
        "# Racism Dataset"
      ]
    },
    {
      "cell_type": "code",
      "execution_count": null,
      "id": "2c0057da",
      "metadata": {
        "id": "2c0057da"
      },
      "outputs": [],
      "source": [
        "racist1 = pd.read_csv('../Dataset/racism/Charlottesville_08122017.txt',sep='\\t',names=['Sentence'])\n",
        "racist2 = pd.read_csv('../Dataset/racism/twets/2017_Tweets_Grenfell Public Inquiry began.txt',sep='\\t',names=['Sentence'])\n",
        "racist3 = pd.read_csv('../Dataset/racism/twets/2018_Tweets_Petition.txt',sep='\\t',names=['Sentence'])\n",
        "racist4 = pd.read_csv('../Dataset/racism/twets/2019_Tweets_Inquiry Report.txt',sep='\\t',names=['Sentence'])                      \n",
        "racist5 = pd.read_csv('../Dataset/racism/twets/2020_Tweets_COVID cancelled SW.txt',sep='\\t',names=['Sentence'])                 "
      ]
    },
    {
      "cell_type": "code",
      "execution_count": null,
      "id": "dcccdc5b",
      "metadata": {
        "id": "dcccdc5b",
        "outputId": "8b7f6066-2608-4c22-a17b-a288f79edbf1"
      },
      "outputs": [
        {
          "name": "stdout",
          "output_type": "stream",
          "text": [
            "Sentence    47\n",
            "dtype: int64\n"
          ]
        },
        {
          "data": {
            "text/html": [
              "<div>\n",
              "<style scoped>\n",
              "    .dataframe tbody tr th:only-of-type {\n",
              "        vertical-align: middle;\n",
              "    }\n",
              "\n",
              "    .dataframe tbody tr th {\n",
              "        vertical-align: top;\n",
              "    }\n",
              "\n",
              "    .dataframe thead th {\n",
              "        text-align: right;\n",
              "    }\n",
              "</style>\n",
              "<table border=\"1\" class=\"dataframe\">\n",
              "  <thead>\n",
              "    <tr style=\"text-align: right;\">\n",
              "      <th></th>\n",
              "      <th>Sentence</th>\n",
              "    </tr>\n",
              "  </thead>\n",
              "  <tbody>\n",
              "    <tr>\n",
              "      <th>0</th>\n",
              "      <td>911301472142479360</td>\n",
              "    </tr>\n",
              "    <tr>\n",
              "      <th>1</th>\n",
              "      <td>911197397556056064</td>\n",
              "    </tr>\n",
              "    <tr>\n",
              "      <th>2</th>\n",
              "      <td>911197297840721920</td>\n",
              "    </tr>\n",
              "    <tr>\n",
              "      <th>3</th>\n",
              "      <td>911121183445327872</td>\n",
              "    </tr>\n",
              "    <tr>\n",
              "      <th>4</th>\n",
              "      <td>910950274763755520</td>\n",
              "    </tr>\n",
              "  </tbody>\n",
              "</table>\n",
              "</div>"
            ],
            "text/plain": [
              "             Sentence\n",
              "0  911301472142479360\n",
              "1  911197397556056064\n",
              "2  911197297840721920\n",
              "3  911121183445327872\n",
              "4  910950274763755520"
            ]
          },
          "execution_count": 70,
          "metadata": {},
          "output_type": "execute_result"
        }
      ],
      "source": [
        "print(racist4.count())\n",
        "racist2.head()"
      ]
    },
    {
      "cell_type": "code",
      "execution_count": null,
      "id": "3bc0539e",
      "metadata": {
        "id": "3bc0539e"
      },
      "outputs": [],
      "source": [
        "racist = pd.concat([racist1.loc[:10000], racist2,racist3,racist4,racist5],axis=0)"
      ]
    },
    {
      "cell_type": "code",
      "execution_count": null,
      "id": "198f1fe7",
      "metadata": {
        "id": "198f1fe7",
        "outputId": "75d63c62-8275-4124-a1b9-db7f9e7427c0"
      },
      "outputs": [
        {
          "data": {
            "text/html": [
              "<div>\n",
              "<style scoped>\n",
              "    .dataframe tbody tr th:only-of-type {\n",
              "        vertical-align: middle;\n",
              "    }\n",
              "\n",
              "    .dataframe tbody tr th {\n",
              "        vertical-align: top;\n",
              "    }\n",
              "\n",
              "    .dataframe thead th {\n",
              "        text-align: right;\n",
              "    }\n",
              "</style>\n",
              "<table border=\"1\" class=\"dataframe\">\n",
              "  <thead>\n",
              "    <tr style=\"text-align: right;\">\n",
              "      <th></th>\n",
              "      <th>Sentence</th>\n",
              "    </tr>\n",
              "  </thead>\n",
              "  <tbody>\n",
              "    <tr>\n",
              "      <th>count</th>\n",
              "      <td>1.026800e+04</td>\n",
              "    </tr>\n",
              "    <tr>\n",
              "      <th>mean</th>\n",
              "      <td>8.994136e+17</td>\n",
              "    </tr>\n",
              "    <tr>\n",
              "      <th>std</th>\n",
              "      <td>2.600972e+16</td>\n",
              "    </tr>\n",
              "    <tr>\n",
              "      <th>min</th>\n",
              "      <td>8.963186e+17</td>\n",
              "    </tr>\n",
              "    <tr>\n",
              "      <th>25%</th>\n",
              "      <td>8.963213e+17</td>\n",
              "    </tr>\n",
              "    <tr>\n",
              "      <th>50%</th>\n",
              "      <td>8.963240e+17</td>\n",
              "    </tr>\n",
              "    <tr>\n",
              "      <th>75%</th>\n",
              "      <td>8.963264e+17</td>\n",
              "    </tr>\n",
              "    <tr>\n",
              "      <th>max</th>\n",
              "      <td>1.241669e+18</td>\n",
              "    </tr>\n",
              "  </tbody>\n",
              "</table>\n",
              "</div>"
            ],
            "text/plain": [
              "           Sentence\n",
              "count  1.026800e+04\n",
              "mean   8.994136e+17\n",
              "std    2.600972e+16\n",
              "min    8.963186e+17\n",
              "25%    8.963213e+17\n",
              "50%    8.963240e+17\n",
              "75%    8.963264e+17\n",
              "max    1.241669e+18"
            ]
          },
          "execution_count": 72,
          "metadata": {},
          "output_type": "execute_result"
        }
      ],
      "source": [
        "racist.describe()"
      ]
    },
    {
      "cell_type": "code",
      "execution_count": null,
      "id": "0c62d52e",
      "metadata": {
        "id": "0c62d52e",
        "outputId": "8b4fd811-1c5f-455f-f86f-d37c896a5004"
      },
      "outputs": [
        {
          "data": {
            "text/plain": [
              "0"
            ]
          },
          "execution_count": 73,
          "metadata": {},
          "output_type": "execute_result"
        }
      ],
      "source": [
        "racist.Sentence.duplicated().sum()"
      ]
    },
    {
      "cell_type": "markdown",
      "id": "2c1f7055",
      "metadata": {
        "id": "2c1f7055"
      },
      "source": [
        "# General Hatespeech"
      ]
    },
    {
      "cell_type": "code",
      "execution_count": null,
      "id": "c5b20dba",
      "metadata": {
        "id": "c5b20dba"
      },
      "outputs": [],
      "source": [
        "general1 = pd.read_csv('../Dataset/general/labeled_data.csv')"
      ]
    },
    {
      "cell_type": "code",
      "execution_count": null,
      "id": "f5ea03c6",
      "metadata": {
        "id": "f5ea03c6",
        "outputId": "3f95505e-d539-4886-ffff-6911e3c275a7"
      },
      "outputs": [
        {
          "data": {
            "text/html": [
              "<div>\n",
              "<style scoped>\n",
              "    .dataframe tbody tr th:only-of-type {\n",
              "        vertical-align: middle;\n",
              "    }\n",
              "\n",
              "    .dataframe tbody tr th {\n",
              "        vertical-align: top;\n",
              "    }\n",
              "\n",
              "    .dataframe thead th {\n",
              "        text-align: right;\n",
              "    }\n",
              "</style>\n",
              "<table border=\"1\" class=\"dataframe\">\n",
              "  <thead>\n",
              "    <tr style=\"text-align: right;\">\n",
              "      <th></th>\n",
              "      <th>Unnamed: 0</th>\n",
              "      <th>count</th>\n",
              "      <th>hate_speech</th>\n",
              "      <th>offensive_language</th>\n",
              "      <th>neither</th>\n",
              "      <th>class</th>\n",
              "      <th>tweet</th>\n",
              "    </tr>\n",
              "  </thead>\n",
              "  <tbody>\n",
              "    <tr>\n",
              "      <th>0</th>\n",
              "      <td>0</td>\n",
              "      <td>3</td>\n",
              "      <td>0</td>\n",
              "      <td>0</td>\n",
              "      <td>3</td>\n",
              "      <td>2</td>\n",
              "      <td>!!! RT @mayasolovely: As a woman you shouldn't...</td>\n",
              "    </tr>\n",
              "    <tr>\n",
              "      <th>1</th>\n",
              "      <td>1</td>\n",
              "      <td>3</td>\n",
              "      <td>0</td>\n",
              "      <td>3</td>\n",
              "      <td>0</td>\n",
              "      <td>1</td>\n",
              "      <td>!!!!! RT @mleew17: boy dats cold...tyga dwn ba...</td>\n",
              "    </tr>\n",
              "    <tr>\n",
              "      <th>2</th>\n",
              "      <td>2</td>\n",
              "      <td>3</td>\n",
              "      <td>0</td>\n",
              "      <td>3</td>\n",
              "      <td>0</td>\n",
              "      <td>1</td>\n",
              "      <td>!!!!!!! RT @UrKindOfBrand Dawg!!!! RT @80sbaby...</td>\n",
              "    </tr>\n",
              "    <tr>\n",
              "      <th>3</th>\n",
              "      <td>3</td>\n",
              "      <td>3</td>\n",
              "      <td>0</td>\n",
              "      <td>2</td>\n",
              "      <td>1</td>\n",
              "      <td>1</td>\n",
              "      <td>!!!!!!!!! RT @C_G_Anderson: @viva_based she lo...</td>\n",
              "    </tr>\n",
              "    <tr>\n",
              "      <th>4</th>\n",
              "      <td>4</td>\n",
              "      <td>6</td>\n",
              "      <td>0</td>\n",
              "      <td>6</td>\n",
              "      <td>0</td>\n",
              "      <td>1</td>\n",
              "      <td>!!!!!!!!!!!!! RT @ShenikaRoberts: The shit you...</td>\n",
              "    </tr>\n",
              "  </tbody>\n",
              "</table>\n",
              "</div>"
            ],
            "text/plain": [
              "   Unnamed: 0  count  hate_speech  offensive_language  neither  class  \\\n",
              "0           0      3            0                   0        3      2   \n",
              "1           1      3            0                   3        0      1   \n",
              "2           2      3            0                   3        0      1   \n",
              "3           3      3            0                   2        1      1   \n",
              "4           4      6            0                   6        0      1   \n",
              "\n",
              "                                               tweet  \n",
              "0  !!! RT @mayasolovely: As a woman you shouldn't...  \n",
              "1  !!!!! RT @mleew17: boy dats cold...tyga dwn ba...  \n",
              "2  !!!!!!! RT @UrKindOfBrand Dawg!!!! RT @80sbaby...  \n",
              "3  !!!!!!!!! RT @C_G_Anderson: @viva_based she lo...  \n",
              "4  !!!!!!!!!!!!! RT @ShenikaRoberts: The shit you...  "
            ]
          },
          "execution_count": 31,
          "metadata": {},
          "output_type": "execute_result"
        }
      ],
      "source": [
        "general1.head()"
      ]
    },
    {
      "cell_type": "code",
      "execution_count": null,
      "id": "86a24f64",
      "metadata": {
        "id": "86a24f64"
      },
      "outputs": [],
      "source": [
        "general1 = general1[['class','tweet']]"
      ]
    },
    {
      "cell_type": "code",
      "execution_count": null,
      "id": "c5ebb097",
      "metadata": {
        "id": "c5ebb097"
      },
      "outputs": [],
      "source": [
        "general1.loc[general1['class']==1,'class'] = 0\n",
        "general1.loc[general1['class']==2,'class'] = 1"
      ]
    },
    {
      "cell_type": "code",
      "execution_count": null,
      "id": "3648af97",
      "metadata": {
        "id": "3648af97"
      },
      "outputs": [],
      "source": [
        "general2 = pd.read_csv('../Dataset/general/archive/train.csv',index_col=0)"
      ]
    },
    {
      "cell_type": "code",
      "execution_count": null,
      "id": "bb6f8d48",
      "metadata": {
        "id": "bb6f8d48"
      },
      "outputs": [],
      "source": [
        "general2.loc[:,'label'] = list(map(lambda x: 1 if x==0 else 0, general2.loc[:,'label']))"
      ]
    },
    {
      "cell_type": "code",
      "execution_count": null,
      "id": "6c05f1fc",
      "metadata": {
        "id": "6c05f1fc",
        "outputId": "95b79f3e-c905-445d-ed30-5fbc85c4b58d"
      },
      "outputs": [
        {
          "data": {
            "text/plain": [
              "1    29720\n",
              "0     2242\n",
              "Name: label, dtype: int64"
            ]
          },
          "execution_count": 61,
          "metadata": {},
          "output_type": "execute_result"
        }
      ],
      "source": [
        "general2.label.value_counts()"
      ]
    },
    {
      "cell_type": "code",
      "execution_count": null,
      "id": "0cd275de",
      "metadata": {
        "id": "0cd275de",
        "outputId": "4797bf75-6e71-41af-e10c-929b9d9ab6bf"
      },
      "outputs": [
        {
          "data": {
            "text/html": [
              "<div>\n",
              "<style scoped>\n",
              "    .dataframe tbody tr th:only-of-type {\n",
              "        vertical-align: middle;\n",
              "    }\n",
              "\n",
              "    .dataframe tbody tr th {\n",
              "        vertical-align: top;\n",
              "    }\n",
              "\n",
              "    .dataframe thead th {\n",
              "        text-align: right;\n",
              "    }\n",
              "</style>\n",
              "<table border=\"1\" class=\"dataframe\">\n",
              "  <thead>\n",
              "    <tr style=\"text-align: right;\">\n",
              "      <th></th>\n",
              "      <th>class</th>\n",
              "      <th>tweet</th>\n",
              "    </tr>\n",
              "    <tr>\n",
              "      <th>id</th>\n",
              "      <th></th>\n",
              "      <th></th>\n",
              "    </tr>\n",
              "  </thead>\n",
              "  <tbody>\n",
              "    <tr>\n",
              "      <th>1</th>\n",
              "      <td>1</td>\n",
              "      <td>@user when a father is dysfunctional and is s...</td>\n",
              "    </tr>\n",
              "    <tr>\n",
              "      <th>2</th>\n",
              "      <td>1</td>\n",
              "      <td>@user @user thanks for #lyft credit i can't us...</td>\n",
              "    </tr>\n",
              "    <tr>\n",
              "      <th>3</th>\n",
              "      <td>1</td>\n",
              "      <td>bihday your majesty</td>\n",
              "    </tr>\n",
              "    <tr>\n",
              "      <th>4</th>\n",
              "      <td>1</td>\n",
              "      <td>#model   i love u take with u all the time in ...</td>\n",
              "    </tr>\n",
              "    <tr>\n",
              "      <th>5</th>\n",
              "      <td>1</td>\n",
              "      <td>factsguide: society now    #motivation</td>\n",
              "    </tr>\n",
              "  </tbody>\n",
              "</table>\n",
              "</div>"
            ],
            "text/plain": [
              "    class                                              tweet\n",
              "id                                                          \n",
              "1       1   @user when a father is dysfunctional and is s...\n",
              "2       1  @user @user thanks for #lyft credit i can't us...\n",
              "3       1                                bihday your majesty\n",
              "4       1  #model   i love u take with u all the time in ...\n",
              "5       1             factsguide: society now    #motivation"
            ]
          },
          "execution_count": 62,
          "metadata": {},
          "output_type": "execute_result"
        }
      ],
      "source": [
        "general2.rename(columns={'label':'class'},inplace=True)\n",
        "general2.head()"
      ]
    },
    {
      "cell_type": "code",
      "execution_count": null,
      "id": "5695cff3",
      "metadata": {
        "id": "5695cff3",
        "outputId": "b7c96ef1-7512-4aa5-ada7-e80e7d68018e"
      },
      "outputs": [
        {
          "data": {
            "text/html": [
              "<div>\n",
              "<style scoped>\n",
              "    .dataframe tbody tr th:only-of-type {\n",
              "        vertical-align: middle;\n",
              "    }\n",
              "\n",
              "    .dataframe tbody tr th {\n",
              "        vertical-align: top;\n",
              "    }\n",
              "\n",
              "    .dataframe thead th {\n",
              "        text-align: right;\n",
              "    }\n",
              "</style>\n",
              "<table border=\"1\" class=\"dataframe\">\n",
              "  <thead>\n",
              "    <tr style=\"text-align: right;\">\n",
              "      <th></th>\n",
              "      <th>class</th>\n",
              "      <th>tweet</th>\n",
              "    </tr>\n",
              "  </thead>\n",
              "  <tbody>\n",
              "    <tr>\n",
              "      <th>0</th>\n",
              "      <td>1</td>\n",
              "      <td>!!! RT @mayasolovely: As a woman you shouldn't...</td>\n",
              "    </tr>\n",
              "    <tr>\n",
              "      <th>1</th>\n",
              "      <td>0</td>\n",
              "      <td>!!!!! RT @mleew17: boy dats cold...tyga dwn ba...</td>\n",
              "    </tr>\n",
              "    <tr>\n",
              "      <th>2</th>\n",
              "      <td>0</td>\n",
              "      <td>!!!!!!! RT @UrKindOfBrand Dawg!!!! RT @80sbaby...</td>\n",
              "    </tr>\n",
              "    <tr>\n",
              "      <th>3</th>\n",
              "      <td>0</td>\n",
              "      <td>!!!!!!!!! RT @C_G_Anderson: @viva_based she lo...</td>\n",
              "    </tr>\n",
              "    <tr>\n",
              "      <th>4</th>\n",
              "      <td>0</td>\n",
              "      <td>!!!!!!!!!!!!! RT @ShenikaRoberts: The shit you...</td>\n",
              "    </tr>\n",
              "  </tbody>\n",
              "</table>\n",
              "</div>"
            ],
            "text/plain": [
              "   class                                              tweet\n",
              "0      1  !!! RT @mayasolovely: As a woman you shouldn't...\n",
              "1      0  !!!!! RT @mleew17: boy dats cold...tyga dwn ba...\n",
              "2      0  !!!!!!! RT @UrKindOfBrand Dawg!!!! RT @80sbaby...\n",
              "3      0  !!!!!!!!! RT @C_G_Anderson: @viva_based she lo...\n",
              "4      0  !!!!!!!!!!!!! RT @ShenikaRoberts: The shit you..."
            ]
          },
          "execution_count": 63,
          "metadata": {},
          "output_type": "execute_result"
        }
      ],
      "source": [
        "general = pd.concat([general1,general2],axis=0)\n",
        "general.head()"
      ]
    },
    {
      "cell_type": "code",
      "execution_count": null,
      "id": "cf3fa5db",
      "metadata": {
        "id": "cf3fa5db",
        "outputId": "aaa904a8-2264-40c9-ff71-e6ac26f048c6"
      },
      "outputs": [
        {
          "data": {
            "text/plain": [
              "1    33883\n",
              "0    22862\n",
              "Name: class, dtype: int64"
            ]
          },
          "execution_count": 66,
          "metadata": {},
          "output_type": "execute_result"
        }
      ],
      "source": [
        "general.loc[:,'class'].value_counts()"
      ]
    },
    {
      "cell_type": "code",
      "execution_count": null,
      "id": "df65c612",
      "metadata": {
        "id": "df65c612"
      },
      "outputs": [],
      "source": [
        "general_hate = general[general.loc[:,'class']==0]\n",
        "non_hate = general[general.loc[:,'class']==1]"
      ]
    },
    {
      "cell_type": "markdown",
      "id": "5b8ab2f0",
      "metadata": {
        "id": "5b8ab2f0"
      },
      "source": [
        "# Islamophobia"
      ]
    },
    {
      "cell_type": "code",
      "execution_count": null,
      "id": "8ed03860",
      "metadata": {
        "id": "8ed03860"
      },
      "outputs": [],
      "source": [
        "is1= pd.read_excel('../Dataset/islamophobia/Book1.xlsx')\n",
        "is2= pd.read_excel('../Dataset/islamophobia/Book2.xlsx')\n",
        "is3= pd.read_excel('../Dataset/islamophobia/Book3.xlsx')\n",
        "is4= pd.read_excel('../Dataset/islamophobia/Book4.xlsx')\n",
        "is5= pd.read_excel('../Dataset/islamophobia/Book5.xlsx')\n",
        "is6= pd.read_excel('../Dataset/islamophobia/Book6.xlsx')\n",
        "is7= pd.read_excel('../Dataset/islamophobia/Book7.xlsx')\n",
        "is8= pd.read_excel('../Dataset/islamophobia/Book8.xlsx')\n",
        "is9= pd.read_excel('../Dataset/islamophobia/Book9.xlsx')\n",
        "is10= pd.read_excel('../Dataset/islamophobia/Book10.xlsx')"
      ]
    },
    {
      "cell_type": "code",
      "execution_count": null,
      "id": "bcdd257d",
      "metadata": {
        "id": "bcdd257d"
      },
      "outputs": [],
      "source": [
        "is1 = is1.loc[:,'id']\n",
        "is1 = is1[is1==1]"
      ]
    },
    {
      "cell_type": "code",
      "execution_count": null,
      "id": "de466972",
      "metadata": {
        "id": "de466972"
      },
      "outputs": [],
      "source": [
        "is2 = is2.loc[:,'Unnamed: 4']\n",
        "is2 = is2[is2==1]"
      ]
    },
    {
      "cell_type": "code",
      "execution_count": null,
      "id": "49bf966d",
      "metadata": {
        "id": "49bf966d"
      },
      "outputs": [],
      "source": [
        "is3 = is3.loc[:,'Categories']\n",
        "is3 = is3[is3==1]"
      ]
    },
    {
      "cell_type": "code",
      "execution_count": null,
      "id": "d64616b5",
      "metadata": {
        "id": "d64616b5"
      },
      "outputs": [],
      "source": [
        "is4 = is4.loc[:,'Unnamed: 4']\n",
        "is4 = is4[is4==1]"
      ]
    },
    {
      "cell_type": "code",
      "execution_count": null,
      "id": "c7caf883",
      "metadata": {
        "id": "c7caf883"
      },
      "outputs": [],
      "source": [
        "is5 = is5.loc[:,'Unnamed: 4']\n",
        "is5 = is5[is5==1]"
      ]
    },
    {
      "cell_type": "code",
      "execution_count": null,
      "id": "39f40c50",
      "metadata": {
        "id": "39f40c50"
      },
      "outputs": [],
      "source": [
        "is6 = is6.loc[:,'Categories']\n",
        "is6 = is6[is6==1]"
      ]
    },
    {
      "cell_type": "code",
      "execution_count": null,
      "id": "b5b4934c",
      "metadata": {
        "id": "b5b4934c"
      },
      "outputs": [],
      "source": [
        "is7 = is7.loc[:,'Unnamed: 4']\n",
        "is7 = is7[is7==1]"
      ]
    },
    {
      "cell_type": "code",
      "execution_count": null,
      "id": "9c01918e",
      "metadata": {
        "id": "9c01918e"
      },
      "outputs": [],
      "source": [
        "is8 = is8.loc[:,'Unnamed: 4']\n",
        "is8 = is8[is8==1]"
      ]
    },
    {
      "cell_type": "code",
      "execution_count": null,
      "id": "14c18626",
      "metadata": {
        "id": "14c18626"
      },
      "outputs": [],
      "source": [
        "is9 = is9.loc[:,'Unnamed: 4']\n",
        "is9 = is9[is9==1]"
      ]
    },
    {
      "cell_type": "code",
      "execution_count": null,
      "id": "dd02e320",
      "metadata": {
        "id": "dd02e320"
      },
      "outputs": [],
      "source": [
        "is10 = is10.loc[:,'Unnamed: 4']\n",
        "is10 = is10[is10==1]"
      ]
    },
    {
      "cell_type": "code",
      "execution_count": null,
      "id": "fc121db9",
      "metadata": {
        "id": "fc121db9",
        "outputId": "60cf296a-7cc3-4a05-8e60-0a160d7f2f66"
      },
      "outputs": [
        {
          "data": {
            "text/plain": [
              "1    164\n",
              "Name: Unnamed: 4, dtype: int64"
            ]
          },
          "execution_count": 143,
          "metadata": {},
          "output_type": "execute_result"
        }
      ],
      "source": [
        "is10.value_counts()"
      ]
    },
    {
      "cell_type": "code",
      "execution_count": null,
      "id": "e04bfc08",
      "metadata": {
        "id": "e04bfc08"
      },
      "outputs": [],
      "source": [
        ""
      ]
    },
    {
      "cell_type": "code",
      "execution_count": null,
      "id": "2c5c14f7",
      "metadata": {
        "id": "2c5c14f7"
      },
      "outputs": [],
      "source": [
        "isl = pd.concat([is1,is2,is3,is4,is5,is6,is7,is8,is9,is10],axis=0)"
      ]
    },
    {
      "cell_type": "code",
      "execution_count": null,
      "id": "35c77241",
      "metadata": {
        "id": "35c77241",
        "outputId": "101d7500-d530-4564-e8b3-16859e9e6ed6"
      },
      "outputs": [
        {
          "data": {
            "text/plain": [
              "1.0    2646\n",
              "dtype: int64"
            ]
          },
          "execution_count": 145,
          "metadata": {},
          "output_type": "execute_result"
        }
      ],
      "source": [
        "isl.value_counts()"
      ]
    },
    {
      "cell_type": "markdown",
      "id": "29e4115e",
      "metadata": {
        "id": "29e4115e"
      },
      "source": [
        "# Visualize"
      ]
    },
    {
      "cell_type": "code",
      "source": [
        "from google.colab import drive\n",
        "drive.mount('/content/drive')"
      ],
      "metadata": {
        "colab": {
          "base_uri": "https://localhost:8080/"
        },
        "id": "WkfQslxMzyna",
        "outputId": "5d2f812a-edff-49cd-89ef-28425979010b"
      },
      "id": "WkfQslxMzyna",
      "execution_count": 1,
      "outputs": [
        {
          "output_type": "stream",
          "name": "stdout",
          "text": [
            "Mounted at /content/drive\n"
          ]
        }
      ]
    },
    {
      "cell_type": "code",
      "source": [
        "import pandas as pd\n",
        "import numpy as np"
      ],
      "metadata": {
        "id": "cxeuDH6N0nQs"
      },
      "id": "cxeuDH6N0nQs",
      "execution_count": 4,
      "outputs": []
    },
    {
      "cell_type": "code",
      "source": [
        "df = pd.read_csv(\"/content/drive/MyDrive/FYP/FYP/Dataset/overall/dataset (1).csv\", index_col=0)\n",
        "df = df.drop(['index'], axis=1)\n",
        "\n",
        "isl = df.loc[df['class']==4, 'tweet']\n",
        "non_hate = df.loc[df['class']==0, 'tweet']\n",
        "racist = df.loc[df['class']==2, 'tweet']\n",
        "sexist = df.loc[df['class']==3, 'tweet']\n",
        "\n",
        "general_hate = df.loc[df['class']==1, 'tweet']"
      ],
      "metadata": {
        "id": "fG3mOM9p0HrB"
      },
      "id": "fG3mOM9p0HrB",
      "execution_count": 5,
      "outputs": []
    },
    {
      "cell_type": "code",
      "source": [
        "isl.count()"
      ],
      "metadata": {
        "colab": {
          "base_uri": "https://localhost:8080/"
        },
        "id": "NviRA1Mo0tCl",
        "outputId": "733444c0-09b3-48f1-e81b-1d268a7f9a3f"
      },
      "id": "NviRA1Mo0tCl",
      "execution_count": 7,
      "outputs": [
        {
          "output_type": "execute_result",
          "data": {
            "text/plain": [
              "3903"
            ]
          },
          "metadata": {},
          "execution_count": 7
        }
      ]
    },
    {
      "cell_type": "code",
      "execution_count": 9,
      "id": "ac720fbf",
      "metadata": {
        "colab": {
          "base_uri": "https://localhost:8080/",
          "height": 359
        },
        "id": "ac720fbf",
        "outputId": "706f9f2e-ed44-4dfc-ecfe-47af97564bd9"
      },
      "outputs": [
        {
          "output_type": "display_data",
          "data": {
            "image/png": "[encoded data removed]",
            "text/plain": [
              "<Figure size 720x360 with 1 Axes>"
            ]
          },
          "metadata": {
            "needs_background": "light"
          }
        }
      ],
      "source": [
        "import matplotlib.pyplot as plt\n",
        "import seaborn as sns\n",
        "\n",
        "fig = plt.figure(figsize=(10,5))\n",
        "#axl = fig.add_subplot(121)\n",
        "plt.xlabel('count',fontsize=14)\n",
        "plt.ylabel('Type of hatespeech',fontsize=14)\n",
        "plt.title(\"Hatespeech Dataset\",fontsize=20)\n",
        "plt.barh(['Islamophobia','Sexism','Racism','general hatespeech','non hatespeech'],[isl.count(),sexist.count(),racist.count(),general_hate.count(),non_hate.count()],height=0.4)\n",
        "plt.tick_params(left=False)\n",
        "plt.show()\n",
        "fig.savefig(\"barplot.png\")"
      ]
    },
    {
      "cell_type": "code",
      "execution_count": 13,
      "id": "57b9a64e",
      "metadata": {
        "colab": {
          "base_uri": "https://localhost:8080/",
          "height": 297
        },
        "id": "57b9a64e",
        "outputId": "68280fbd-f89e-4a6c-d911-5f9a56ce648b"
      },
      "outputs": [
        {
          "output_type": "display_data",
          "data": {
            "image/png": "[encoded data removed]",
            "text/plain": [
              "<Figure size 720x288 with 1 Axes>"
            ]
          },
          "metadata": {
            "needs_background": "light"
          }
        }
      ],
      "source": [
        "fig = plt.figure(figsize=(10,4))\n",
        "axl = fig.add_subplot(121)\n",
        "axl.set_xlabel('sexist data')\n",
        "axl.set_ylabel('number')\n",
        "axl.set_title(\"Sexism data\")\n",
        "plt.vlines(x = ['Sexism','Racism','General hatespeech'],ymin=0,ymax=[sexist.count(),racist.count(),general_hate.count()])\n",
        "plt.plot(['Sexism','Racism','General hatespeech'],[sexist.count(),racist.count(),general_hate.count()],'o')\n",
        "# plt.tick_params(left=False)\n",
        "# sns.despine(left=False)\n",
        "plt.xticks(fontsize=14)\n",
        "plt.yticks(fontsize=14)\n",
        "plt.ylim(0, None)\n",
        "fig.tight_layout()\n",
        "plt.show()\n",
        "fig.savefig('vline.png')"
      ]
    },
    {
      "cell_type": "code",
      "execution_count": null,
      "id": "e5b170ba",
      "metadata": {
        "id": "e5b170ba"
      },
      "outputs": [],
      "source": [
        "# train_loss = [0.9285555555555556, 0.9651666666666666, 0.9810555555555556]\n",
        "# val_loss = [0.942,  0.953, 0.9573333333333334]\n",
        "\n",
        "\n",
        "# fig = plt.figure(figsize=(10,5))\n",
        "# #axl = fig.add_subplot(121)\n",
        "# plt.xlabel('epochs',fontsize=14)\n",
        "# plt.ylabel('acuuracy',fontsize=14)\n",
        "# plt.title(\"XLNet_Model accuracy\",fontsize=20)\n",
        "# plt.xticks(range(1,4))\n",
        "# plt.plot([1,2,3],train_loss, label='training accuracy')\n",
        "# plt.plot([1,2,3],val_loss, label='validation accuracy')\n",
        "# plt.tick_params(left=False)\n",
        "# plt.legend()\n",
        "# plt.show()\n",
        "# fig.savefig(\"../mid_evaluation/acc.png\")"
      ]
    },
    {
      "cell_type": "code",
      "execution_count": null,
      "id": "de3fbbac",
      "metadata": {
        "id": "de3fbbac"
      },
      "outputs": [],
      "source": [
        ""
      ]
    }
  ],
  "metadata": {
    "kernelspec": {
      "display_name": "Python 3",
      "language": "python",
      "name": "python3"
    },
    "language_info": {
      "codemirror_mode": {
        "name": "ipython",
        "version": 3
      },
      "file_extension": ".py",
      "mimetype": "text/x-python",
      "name": "python",
      "nbconvert_exporter": "python",
      "pygments_lexer": "ipython3",
      "version": "3.8.8"
    },
    "colab": {
      "name": "Visualize.ipynb",
      "provenance": []
    }
  },
  "nbformat": 4,
  "nbformat_minor": 5
}